{
 "cells": [
  {
   "cell_type": "raw",
   "metadata": {},
   "source": [
    "1: Introduction: The Science Of Chopsticks\n",
    "\n",
    "\n",
    "In 1991, a group of Taiwanese researchers set out to determine the ideal length for chopsticks. More than 30 people participated in the experiment by trying out chopsticks of various lengths. The researchers' approach ensured that the participants' different skill levels and length preferences didn't skew the results.\n",
    "\n",
    "After an exciting few days of picking up peanuts and placing them into cups, the researchers gathered enough data to determine which chopsticks are most efficient. Their findings form our data set.\n",
    "\n",
    "The first column contains the \"Food pinching efficiency\" measurement, which is a decimal value. The higher the value, the better the chopstick.\n",
    "\n",
    "The second column, \"Individual,\" holds unique identifiers for the person who used the chopstick.\n",
    "\n",
    "The third column records the \"Chopstick length\" measurement in millimeters.\n",
    "\n",
    "Each row of our data set represents a trial in which a participant used a chopstick of a certain length. It records the food pinching efficiency for a specific individual and chopstick length."
   ]
  },
  {
   "cell_type": "code",
   "execution_count": 40,
   "metadata": {
    "collapsed": true
   },
   "outputs": [],
   "source": [
    "chopsticks=[['19.55', '1', '180'],\n",
    " ['27.24', '2', '180'],\n",
    " ['28.76', '3', '180'],\n",
    " ['31.19', '4', '180'],\n",
    " ['21.91', '5', '180'],\n",
    " ['27.62', '6', '180'],\n",
    " ['29.46', '7', '180'],\n",
    " ['26.35', '8', '180'],\n",
    " ['26.69', '9', '180'],\n",
    " ['30.22', '10', '180'],\n",
    " ['27.81', '11', '180'],\n",
    " ['23.46', '12', '180'],\n",
    " ['23.64', '13', '180'],\n",
    " ['27.85', '14', '180'],\n",
    " ['20.62', '15', '180'],\n",
    " ['25.35', '16', '180'],\n",
    " ['28', '17', '180'],\n",
    "['23.49', '18', '180'],\n",
    " ['27.77', '19', '180'],\n",
    " ['18.48', '20', '180'],\n",
    " ['23.01', '21', '180'],\n",
    " ['22.66', '22', '180'],\n",
    " ['23.24', '23', '180'],\n",
    " ['22.82', '24', '180'],\n",
    " ['17.94', '25', '180'],\n",
    " ['26.67', '26', '180'],\n",
    " ['28.98', '27', '180'],\n",
    " ['21.48', '28', '180'],\n",
    " ['14.47', '29', '180'],\n",
    " ['28.29', '30', '180'],\n",
    " ['27.97', '31', '180'],\n",
    " ['23.53', '1', '210'],\n",
    " ['26.39', '2', '210'],\n",
    " ['30.9', '3', '210'],\n",
    " ['26.05', '4', '210'],\n",
    " ['23.27', '5', '210'],\n",
    " ['29.17', '6', '210'],\n",
    " ['30.93', '7', '210'],\n",
    " ['17.55', '8', '210'],\n",
    " ['32.55', '9', '210'],\n",
    " ['28.87', '10', '210'],\n",
    " ['26.53', '11', '210'],\n",
    " ['25.26', '12', '210'],\n",
    " ['25.65', '13', '210'],\n",
    " ['29.39', '14', '210'],\n",
    " ['23.26', '15', '210'],\n",
    " ['24.77', '16', '210'],\n",
    " ['25.42', '17', '210'],\n",
    " ['23.65', '18', '210'],\n",
    " ['32.22', '19', '210'],\n",
    " ['18.86', '20', '210'],\n",
    " ['21.75', '21', '210'],\n",
    " ['23.07', '22', '210'],\n",
    " ['22.3', '23', '210'],\n",
    " ['27.04', '24', '210'],\n",
    " ['22.24', '25', '210'],\n",
    " ['24.87', '26', '210'],\n",
    " ['30.85', '27', '210'],\n",
    " ['21.15', '28', '210'],\n",
    " ['16.47', '29', '210'],\n",
    " ['29.05', '30', '210'],\n",
    " ['26.99', '31', '210'],\n",
    " ['21.34', '1', '240'],\n",
    " ['29.94', '2', '240'],\n",
    " ['32.95', '3', '240'],\n",
    " ['29.4', '4', '240'],\n",
    " ['22.32', '5', '240'],\n",
    " ['28.36', '6', '240'],\n",
    " ['28.49', '7', '240'],\n",
    " ['22.24', '8', '240'],\n",
    " ['36.15', '9', '240'],\n",
    " ['30.62', '10', '240'],\n",
    " ['26.53', '11', '240'],\n",
    " ['27.95', '12', '240'],\n",
    " ['31.49', '13', '240'],\n",
    " ['30.24', '14', '240'],\n",
    " ['24.8', '15', '240'],\n",
    " ['26.43', '16', '240'],\n",
    " ['29.35', '17', '240'],\n",
    " ['21.15', '18', '240'],\n",
    " ['29.18', '19', '240'],\n",
    " ['21.6', '20', '240'],\n",
    " ['25.39', '21', '240'],\n",
    " ['22.26', '22', '240'],\n",
    " ['24.85', '23', '240'],\n",
    " ['24.56', '24', '240'],\n",
    " ['16.35', '25', '240'],\n",
    " ['22.96', '26', '240'],\n",
    " ['25.82', '27', '240'],\n",
    " ['19.46', '28', '240'],\n",
    " ['23.6', '29', '240'],\n",
    " ['33.1', '30', '240'],\n",
    " ['27.13', '31', '240'],\n",
    " ['24.4', '1', '270']]"
   ]
  },
  {
   "cell_type": "code",
   "execution_count": 41,
   "metadata": {
    "collapsed": true
   },
   "outputs": [],
   "source": [
    "class Trial(object):\n",
    "    def __init__(self, datarow):\n",
    "        self.efficiency = float(datarow[0])\n",
    "        self.individual = int(datarow[1])\n",
    "        self.chopstick_length = int(datarow[2])\n",
    "\n",
    "class Chopstick(object):\n",
    "    def __init__(self, length):\n",
    "        self.length = length\n",
    "        # Start our trial list empty\n",
    "        self.trials = []\n",
    "        # Now, fill our list with relevant trials\n",
    "        for i in chopsticks:\n",
    "            trial=Trial(i)\n",
    "            if trial.chopstick_length==self.length:\n",
    "                self.trials.append(trial)\n",
    "    "
   ]
  },
  {
   "cell_type": "code",
   "execution_count": 42,
   "metadata": {
    "collapsed": false,
    "scrolled": true
   },
   "outputs": [
    {
     "data": {
      "text/plain": [
       "[<__main__.Trial at 0x1060f92b0>,\n",
       " <__main__.Trial at 0x1060f9550>,\n",
       " <__main__.Trial at 0x1060f9940>,\n",
       " <__main__.Trial at 0x1060f9d30>,\n",
       " <__main__.Trial at 0x1060f9710>,\n",
       " <__main__.Trial at 0x1060f9a58>,\n",
       " <__main__.Trial at 0x1060f9f98>,\n",
       " <__main__.Trial at 0x1060f9320>,\n",
       " <__main__.Trial at 0x1060f98d0>,\n",
       " <__main__.Trial at 0x1060f9ba8>,\n",
       " <__main__.Trial at 0x1060f9080>,\n",
       " <__main__.Trial at 0x1060f9240>,\n",
       " <__main__.Trial at 0x1068f80b8>,\n",
       " <__main__.Trial at 0x1068f8160>,\n",
       " <__main__.Trial at 0x1068f8208>,\n",
       " <__main__.Trial at 0x1068f82b0>,\n",
       " <__main__.Trial at 0x1068f8358>,\n",
       " <__main__.Trial at 0x1068f8048>,\n",
       " <__main__.Trial at 0x1068f8080>,\n",
       " <__main__.Trial at 0x1068f80f0>,\n",
       " <__main__.Trial at 0x1068f8128>,\n",
       " <__main__.Trial at 0x1068f8198>,\n",
       " <__main__.Trial at 0x1068f81d0>,\n",
       " <__main__.Trial at 0x1068f8240>,\n",
       " <__main__.Trial at 0x1068f8278>,\n",
       " <__main__.Trial at 0x1068f82e8>,\n",
       " <__main__.Trial at 0x1068f8320>,\n",
       " <__main__.Trial at 0x1068f8390>,\n",
       " <__main__.Trial at 0x1068f8400>,\n",
       " <__main__.Trial at 0x1068f8438>,\n",
       " <__main__.Trial at 0x1068f8470>]"
      ]
     },
     "execution_count": 42,
     "metadata": {},
     "output_type": "execute_result"
    }
   ],
   "source": [
    "medium_chopstick=Chopstick(240)\n",
    "medium_chopstick.trials"
   ]
  },
  {
   "cell_type": "code",
   "execution_count": 43,
   "metadata": {
    "collapsed": false
   },
   "outputs": [
    {
     "data": {
      "text/plain": [
       "25.483870967741936"
      ]
     },
     "execution_count": 43,
     "metadata": {},
     "output_type": "execute_result"
    }
   ],
   "source": [
    "###Food pinching Efficiency function writing\n",
    "\n",
    "class Trial(object):\n",
    "    def __init__(self, datarow):\n",
    "        self.efficiency = float(datarow[0])\n",
    "        self.individual = int(datarow[1])\n",
    "        self.chopstick_length = int(datarow[2])\n",
    "\n",
    "class Chopstick(object):\n",
    "    def __init__(self, length):\n",
    "        self.length = length\n",
    "        # Start our trial list empty\n",
    "        self.trials = []\n",
    "        # Now, fill our list with relevant trials\n",
    "        for i in chopsticks:\n",
    "            trial=Trial(i)\n",
    "            if trial.chopstick_length==self.length:\n",
    "                self.trials.append(trial)\n",
    "    def avg_efficiency(self):\n",
    "        trial_list=self.trials\n",
    "        efficiency_list=[]\n",
    "        for i in trial_list:\n",
    "            efficiency_list.append(i.efficiency)\n",
    "        avg_eff=np.mean(efficiency_list)\n",
    "        return avg_eff\n",
    "instance=Chopstick(210)  \n",
    "avg_eff_210=instance.avg_efficiency()\n",
    "avg_eff_210"
   ]
  },
  {
   "cell_type": "markdown",
   "metadata": {},
   "source": [
    "**6: Overview Of Exceptions**\n",
    "\n",
    "When programming, we usually try to avoid writing code that will generate errors. Even so, errors can be quite useful to us because they tell us what went wrong with our code. We can use this information to improve our program's logic. If part of our code fails, we can check why it failed, and execute some other code instead.\n",
    "\n",
    "We need a way to handle errors gracefully during code execution so that our program doesn't crash, however. This is where exception handling comes into play.\n",
    "\n",
    "An exception is a broad characterization of what can go wrong with a program. When a statement is syntactically correct but something goes wrong during execution (a division by zero occurs or the interpreter tries to read a non-existent file, for example), the compiler raises an exception. An important distinction is that exceptions occur during the execution of the program, whereas syntax errors such as forgetting a colon or mispelling a variable don't, because your code won't run to begin with."
   ]
  },
  {
   "cell_type": "code",
   "execution_count": 52,
   "metadata": {
    "collapsed": true
   },
   "outputs": [],
   "source": [
    "class Trial(object):\n",
    "    def __init__(self, datarow):\n",
    "        try:\n",
    "            self.efficiency = float(datarow[0])\n",
    "            self.individual = int(datarow[1])\n",
    "            self.chopstick_length = int(datarow[2])\n",
    "        except ValueError:\n",
    "            self.efficiency = -1\n",
    "            self.individual = -1\n",
    "            self.chopstick_length = -1\n",
    "            "
   ]
  },
  {
   "cell_type": "code",
   "execution_count": 55,
   "metadata": {
    "collapsed": false
   },
   "outputs": [
    {
     "data": {
      "text/plain": [
       "-1"
      ]
     },
     "execution_count": 55,
     "metadata": {},
     "output_type": "execute_result"
    }
   ],
   "source": [
    "trial=Trial(chopsticks[-1])\n",
    "trial.efficiency"
   ]
  },
  {
   "cell_type": "code",
   "execution_count": 93,
   "metadata": {
    "collapsed": true
   },
   "outputs": [],
   "source": [
    "## I have deliberately changed the class def of avg effciency \n",
    "\n",
    "class Chopstick(object):\n",
    "    def __init__(self, length):\n",
    "        self.length = length\n",
    "        # Start our trial list empty\n",
    "        self.trials = []\n",
    "        # Now, fill our list with relevant trials\n",
    "        for i in chopsticks:\n",
    "            trial=Trial(i)\n",
    "            if trial.chopstick_length==self.length:\n",
    "                self.trials.append(trial)\n",
    "    def num_trials(self):\n",
    "        return len(self.trials)\n",
    "    def avg_efficiency(self):\n",
    "        efficiency_sum = 0\n",
    "        for trial in self.trials:\n",
    "            efficiency_sum += trial.efficiency\n",
    "        try:\n",
    "            avg_eff=efficiency_sum / self.num_trials()\n",
    "        except ZeroDivisionError:\n",
    "            avg_eff='NoN'\n",
    "            \n",
    "        return avg_eff\n",
    "    \n",
    "    "
   ]
  },
  {
   "cell_type": "code",
   "execution_count": 94,
   "metadata": {
    "collapsed": false
   },
   "outputs": [
    {
     "data": {
      "text/plain": [
       "'NoN'"
      ]
     },
     "execution_count": 94,
     "metadata": {},
     "output_type": "execute_result"
    }
   ],
   "source": [
    "instance=Chopstick(1000)  \n",
    "instance.avg_efficiency()"
   ]
  },
  {
   "cell_type": "code",
   "execution_count": 98,
   "metadata": {
    "collapsed": false
   },
   "outputs": [
    {
     "data": {
      "text/plain": [
       "240"
      ]
     },
     "execution_count": 98,
     "metadata": {},
     "output_type": "execute_result"
    }
   ],
   "source": [
    "###adding comparison operators to class Chopsticks \n",
    "class Chopstick(object):\n",
    "    def __init__(self, length):\n",
    "        self.length = length\n",
    "        # Start our trial list empty\n",
    "        self.trials = []\n",
    "        # Now, fill our list with relevant trials\n",
    "        for i in chopsticks:\n",
    "            trial=Trial(i)\n",
    "            if trial.chopstick_length==self.length:\n",
    "                self.trials.append(trial)\n",
    "    def num_trials(self):\n",
    "        return len(self.trials)\n",
    "    def avg_efficiency(self):\n",
    "        efficiency_sum = 0\n",
    "        for trial in self.trials:\n",
    "            efficiency_sum += trial.efficiency\n",
    "        try:\n",
    "            avg_eff=efficiency_sum / self.num_trials()\n",
    "        except ZeroDivisionError:\n",
    "            avg_eff=-1\n",
    "            \n",
    "        return avg_eff\n",
    "    def __lt__(self, other):\n",
    "        return self.avg_efficiency() < other.avg_efficiency()\n",
    "    def __gt__(self, other):\n",
    "        return self.avg_efficiency() > other.avg_efficiency()\n",
    "    def __le__(self, other):\n",
    "        return self.avg_efficiency() <= other.avg_efficiency()\n",
    "    def __ge__(self, other):\n",
    "        return self.avg_efficiency() >= other.avg_efficiency()\n",
    "    def __eq__(self, other):\n",
    "        return self.avg_efficiency() == other.avg_efficiency()\n",
    "    def __ne__(self, other):\n",
    "        return self.avg_efficiency() != other.avg_efficiency()\n",
    "\n",
    "chopstick_lengths=[180, 195, 210, 225, 240, 255, 270, 285, 300, 315, 330]\n",
    "\n",
    "chopstick_list = [Chopstick(length) for length in chopstick_lengths]\n",
    "most_efficient = max(chopstick_list)\n",
    "most_efficient.length"
   ]
  },
  {
   "cell_type": "code",
   "execution_count": null,
   "metadata": {
    "collapsed": true
   },
   "outputs": [],
   "source": []
  }
 ],
 "metadata": {
  "kernelspec": {
   "display_name": "Python 3",
   "language": "python",
   "name": "python3"
  },
  "language_info": {
   "codemirror_mode": {
    "name": "ipython",
    "version": 3
   },
   "file_extension": ".py",
   "mimetype": "text/x-python",
   "name": "python",
   "nbconvert_exporter": "python",
   "pygments_lexer": "ipython3",
   "version": "3.6.0"
  }
 },
 "nbformat": 4,
 "nbformat_minor": 2
}
